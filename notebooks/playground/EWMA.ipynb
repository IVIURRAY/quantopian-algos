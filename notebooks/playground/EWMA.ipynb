{
 "cells": [
  {
   "cell_type": "code",
   "execution_count": null,
   "metadata": {},
   "outputs": [],
   "source": [
    "import numpy as np\n",
    "import pandas as pd\n",
    "import matplotlib.pyplot as plt\n",
    "TICK = 'SPY'\n",
    "\n",
    "data = get_pricing(TICK, start_date='2013-03-01', end_date='2016-11-1')\n",
    "X = data['price']\n",
    "\n",
    "\n",
    "ewma = pd.ewma(X, span=200)\n",
    "sma = pd.rolling_mean(X, window=200)\n",
    "\n",
    "plt.plot(X.index, X.values, color='c')\n",
    "plt.plot(ewma.index, ewma.values, color='r')\n",
    "plt.plot(sma.index, sma.values, color='b')"
   ]
  },
  {
   "cell_type": "code",
   "execution_count": null,
   "metadata": {},
   "outputs": [],
   "source": []
  },
  {
   "cell_type": "code",
   "execution_count": null,
   "metadata": {},
   "outputs": [],
   "source": []
  }
 ],
 "metadata": {
  "kernelspec": {
   "display_name": "Python 2",
   "language": "python",
   "name": "python2"
  },
  "language_info": {
   "codemirror_mode": {
    "name": "ipython",
    "version": 2
   },
   "file_extension": ".py",
   "mimetype": "text/x-python",
   "name": "python",
   "nbconvert_exporter": "python",
   "pygments_lexer": "ipython2",
   "version": "2.7.12"
  }
 },
 "nbformat": 4,
 "nbformat_minor": 0
}
