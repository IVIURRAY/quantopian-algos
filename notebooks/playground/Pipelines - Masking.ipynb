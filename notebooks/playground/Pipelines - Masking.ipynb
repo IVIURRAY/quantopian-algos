{
 "cells": [
  {
   "cell_type": "code",
   "execution_count": null,
   "metadata": {},
   "outputs": [],
   "source": [
    "from quantopian.pipeline import Pipeline\n",
    "from quantopian.research import run_pipeline\n",
    "from quantopian.pipeline.data.builtin import USEquityPricing\n",
    "from quantopian.pipeline.factors import SimpleMovingAverage, AverageDollarVolume"
   ]
  },
  {
   "cell_type": "code",
   "execution_count": null,
   "metadata": {},
   "outputs": [],
   "source": [
    "def make_pipeline():\n",
    "\n",
    "    # Dollar volume factor\n",
    "    dollar_volume = AverageDollarVolume(window_length=30)\n",
    "\n",
    "    # High dollar volume filter\n",
    "    high_dollar_volume = dollar_volume.percentile_between(90,100)\n",
    "\n",
    "    # Top open securities filter (high dollar volume securities)\n",
    "    top_open_price = USEquityPricing.open.latest.top(50, mask=high_dollar_volume)\n",
    "\n",
    "    # Top percentile close price filter (high dollar volume, top 50 open price)\n",
    "    high_close_price = USEquityPricing.close.latest.percentile_between(90, 100, mask=top_open_price)\n",
    "\n",
    "    return Pipeline(\n",
    "        screen=high_close_price\n",
    "    )"
   ]
  },
  {
   "cell_type": "code",
   "execution_count": null,
   "metadata": {},
   "outputs": [],
   "source": [
    "result = run_pipeline(make_pipeline(), '2015-05-05', '2015-05-05')"
   ]
  },
  {
   "cell_type": "code",
   "execution_count": null,
   "metadata": {},
   "outputs": [],
   "source": [
    "result"
   ]
  },
  {
   "cell_type": "code",
   "execution_count": null,
   "metadata": {},
   "outputs": [],
   "source": []
  }
 ],
 "metadata": {
  "kernelspec": {
   "display_name": "Python 2",
   "language": "python",
   "name": "python2"
  },
  "language_info": {
   "codemirror_mode": {
    "name": "ipython",
    "version": 2
   },
   "file_extension": ".py",
   "mimetype": "text/x-python",
   "name": "python",
   "nbconvert_exporter": "python",
   "pygments_lexer": "ipython2",
   "version": "2.7.12"
  }
 },
 "nbformat": 4,
 "nbformat_minor": 0
}
