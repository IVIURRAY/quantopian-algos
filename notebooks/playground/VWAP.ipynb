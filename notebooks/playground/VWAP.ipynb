{
 "cells": [
  {
   "cell_type": "code",
   "execution_count": null,
   "metadata": {},
   "outputs": [],
   "source": [
    "from quantopian.pipeline import Pipeline\n",
    "from quantopian.research import run_pipeline\n",
    "from quantopian.pipeline.data.builtin import USEquityPricing\n",
    "from quantopian.pipeline.factors import VWAP, SimpleMovingAverage\n",
    "from quantopian.pipeline import CustomFilter\n",
    "import numpy as np\n",
    "import matplotlib.pyplot as plt\n",
    "start = '2015-6-1'\n",
    "end = '2016-7-1'\n",
    "TICK = 'SPY'"
   ]
  },
  {
   "cell_type": "code",
   "execution_count": null,
   "metadata": {},
   "outputs": [],
   "source": [
    "class SidInList(CustomFilter):  \n",
    "    \"\"\"  \n",
    "    Filter returns True for any SID included in parameter tuple passed at creation.  \n",
    "    Usage: my_filter = SidInList(sid_list=(23911, 46631))  \n",
    "    \"\"\"  \n",
    "    inputs = []  \n",
    "    window_length = 1  \n",
    "    params = ('sid_list',)\n",
    "\n",
    "    def compute(self, today, assets, out, sid_list):  \n",
    "        out[:] = np.in1d(assets, sid_list)"
   ]
  },
  {
   "cell_type": "code",
   "execution_count": null,
   "metadata": {},
   "outputs": [],
   "source": [
    "def make_pipeline():\n",
    "    \n",
    "    vwap = VWAP(inputs=[USEquityPricing.close, USEquityPricing.volume], window_length=14)\n",
    "    \n",
    "    short_sma = SimpleMovingAverage(inputs=[USEquityPricing.close], window_length=35)\n",
    "    long_sma = SimpleMovingAverage(inputs=[USEquityPricing.close], window_length=50)\n",
    "    \n",
    "    \n",
    "    close = USEquityPricing.close.latest\n",
    "    symbol = SidInList(sid_list=(8554))\n",
    "    \n",
    "    return Pipeline(\n",
    "        columns={\n",
    "            'vwap': vwap,\n",
    "            'short_sma': short_sma,\n",
    "            'long_sma': long_sma,\n",
    "            'vol': USEquityPricing.volume.latest,\n",
    "            'close': close,\n",
    "            'symbol': symbol,\n",
    "       },\n",
    "       screen=symbol,\n",
    "    )"
   ]
  },
  {
   "cell_type": "code",
   "execution_count": null,
   "metadata": {},
   "outputs": [],
   "source": [
    "result = run_pipeline(make_pipeline(), start, end)\n",
    "result.head()"
   ]
  },
  {
   "cell_type": "code",
   "execution_count": null,
   "metadata": {},
   "outputs": [],
   "source": [
    "dates = [x[0].to_datetime() for x in result.index.tolist()]"
   ]
  },
  {
   "cell_type": "code",
   "execution_count": null,
   "metadata": {},
   "outputs": [],
   "source": [
    "price = result.close.values\n"
   ]
  },
  {
   "cell_type": "code",
   "execution_count": null,
   "metadata": {},
   "outputs": [],
   "source": [
    "vwap_values = result.vwap.values\n",
    "#upper_vwap = [val*1.01 for val in vwap_values]\n",
    "#lower_vwap = [val*0.99 for val in vwap_values]\n",
    "\n",
    "short_sma_vals = result.short_sma.values\n",
    "long_sma_vals = result.long_sma.values"
   ]
  },
  {
   "cell_type": "code",
   "execution_count": null,
   "metadata": {},
   "outputs": [],
   "source": [
    "#plt.plot(dates, vwap_values, color='r')\n",
    "plt.plot(dates, short_sma_vals, color='r')\n",
    "plt.plot(dates, long_sma_vals, color='b')\n",
    "plt.plot(dates, price, color='c')\n",
    "\n",
    "#plt.plot(dates, upper_vwap)\n",
    "#plt.plot(dates, lower_vwap)"
   ]
  },
  {
   "cell_type": "code",
   "execution_count": null,
   "metadata": {},
   "outputs": [],
   "source": [
    "vol = result.vol.values\n",
    "plt.plot(dates, [vol.mean()+0.5*vol.std()]*len(dates))\n",
    "plt.plot(dates, [vol.mean()]*len(dates))\n",
    "plt.plot(dates, [vol.mean()-0.5*vol.std()]*len(dates))\n",
    "plt.plot(dates, vol)"
   ]
  },
  {
   "cell_type": "code",
   "execution_count": null,
   "metadata": {},
   "outputs": [],
   "source": [
    "print vol.std()\n",
    "print vol.mean()"
   ]
  },
  {
   "cell_type": "code",
   "execution_count": null,
   "metadata": {},
   "outputs": [],
   "source": [
    "# WITH PIPELINE"
   ]
  },
  {
   "cell_type": "code",
   "execution_count": null,
   "metadata": {},
   "outputs": [],
   "source": []
  },
  {
   "cell_type": "code",
   "execution_count": null,
   "metadata": {},
   "outputs": [],
   "source": [
    "# WITHOUT PIPELINE INTRADAY"
   ]
  },
  {
   "cell_type": "code",
   "execution_count": null,
   "metadata": {},
   "outputs": [],
   "source": [
    "import numpy as np\n",
    "import pandas as pd\n",
    "import matplotlib.pyplot as plt\n",
    "from quantopian.pipeline import Pipeline\n",
    "from quantopian.research import run_pipeline\n",
    "from quantopian.pipeline.data.builtin import USEquityPricing\n",
    "from quantopian.pipeline.factors import SimpleMovingAverage \n",
    "from quantopian.pipeline import CustomFilter"
   ]
  },
  {
   "cell_type": "code",
   "execution_count": null,
   "metadata": {},
   "outputs": [],
   "source": [
    "date = '2016-9-28'\n",
    "hist2 = get_pricing(TICK, start_date=date, end_date=date, frequency='minute')\n",
    "\n",
    "p = hist2['price']\n",
    "v = hist2['volume']\n",
    "h = hist2['high']\n",
    "l = hist2['low']\n",
    "\n",
    "hist2['sma'] = pd.rolling_mean(p, window=15)\n",
    "hist2['eqma'] = pd.ewma(p, span=20)\n",
    "hist2['vwap'] = (v*(h+l)/2).cumsum() / v.cumsum()\n",
    "hist2"
   ]
  },
  {
   "cell_type": "code",
   "execution_count": null,
   "metadata": {},
   "outputs": [],
   "source": [
    "plt.plot(p.index, p.values, color='c')\n",
    "#plt.plot(hist2['sma'].index, hist2['sma'].values, color='b')\n",
    "#plt.plot(hist2['eqma'].index, hist2['eqma'].values, color='B')\n",
    "plt.plot(hist2['vwap'].index, hist2['vwap'].values, color='r')\n",
    "plt.ylabel('Price')\n",
    "#plt.legend([TICK, 'EQMA', 'VWAP'])"
   ]
  },
  {
   "cell_type": "code",
   "execution_count": null,
   "metadata": {},
   "outputs": [],
   "source": [
    "p.values"
   ]
  },
  {
   "cell_type": "code",
   "execution_count": null,
   "metadata": {},
   "outputs": [],
   "source": [
    "p.index"
   ]
  },
  {
   "cell_type": "code",
   "execution_count": null,
   "metadata": {},
   "outputs": [],
   "source": [
    "len(p.values) == len(p.index)"
   ]
  },
  {
   "cell_type": "code",
   "execution_count": null,
   "metadata": {},
   "outputs": [],
   "source": [
    "e = pd.ewma(p, span=20)"
   ]
  },
  {
   "cell_type": "code",
   "execution_count": null,
   "metadata": {},
   "outputs": [],
   "source": [
    "e[-2:-1]"
   ]
  },
  {
   "cell_type": "code",
   "execution_count": null,
   "metadata": {},
   "outputs": [],
   "source": [
    "e[-2]"
   ]
  },
  {
   "cell_type": "code",
   "execution_count": null,
   "metadata": {},
   "outputs": [],
   "source": [
    "e[-1]"
   ]
  },
  {
   "cell_type": "code",
   "execution_count": null,
   "metadata": {},
   "outputs": [],
   "source": []
  }
 ],
 "metadata": {
  "kernelspec": {
   "display_name": "Python 2",
   "language": "python",
   "name": "python2"
  },
  "language_info": {
   "codemirror_mode": {
    "name": "ipython",
    "version": 2
   },
   "file_extension": ".py",
   "mimetype": "text/x-python",
   "name": "python",
   "nbconvert_exporter": "python",
   "pygments_lexer": "ipython2",
   "version": "2.7.12"
  }
 },
 "nbformat": 4,
 "nbformat_minor": 0
}
