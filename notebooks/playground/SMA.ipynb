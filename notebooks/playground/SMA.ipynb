{
 "cells": [
  {
   "cell_type": "code",
   "execution_count": null,
   "metadata": {},
   "outputs": [],
   "source": [
    "from quantopian.pipeline import Pipeline\n",
    "from quantopian.research import run_pipeline\n",
    "from quantopian.pipeline.data.builtin import USEquityPricing\n",
    "from quantopian.pipeline.factors import SimpleMovingAverage \n",
    "from quantopian.pipeline import CustomFilter\n",
    "import numpy as np\n",
    "import matplotlib.pyplot as plt\n",
    "\n",
    "#from quantopian.pipeline.filters import  StaticAssets\n",
    "#aapl = StaticAssets(symbols('AAPL'))  "
   ]
  },
  {
   "cell_type": "code",
   "execution_count": null,
   "metadata": {},
   "outputs": [],
   "source": [
    "start = '2015-6-1'\n",
    "end = '2016-7-1'"
   ]
  },
  {
   "cell_type": "code",
   "execution_count": null,
   "metadata": {},
   "outputs": [],
   "source": [
    "class SidInList(CustomFilter):  \n",
    "    \"\"\"  \n",
    "    Filter returns True for any SID included in parameter tuple passed at creation.  \n",
    "    Usage: my_filter = SidInList(sid_list=(23911, 46631))  \n",
    "    \"\"\"  \n",
    "    inputs = []  \n",
    "    window_length = 1  \n",
    "    params = ('sid_list',)\n",
    "\n",
    "    def compute(self, today, assets, out, sid_list):  \n",
    "        out[:] = np.in1d(assets, sid_list)"
   ]
  },
  {
   "cell_type": "code",
   "execution_count": null,
   "metadata": {},
   "outputs": [],
   "source": [
    "def make_pipeline():\n",
    "    \n",
    "    a = SimpleMovingAverage(inputs=[USEquityPricing.close], window_length=5)\n",
    "    b = SimpleMovingAverage(inputs=[USEquityPricing.close], window_length=15)\n",
    "    c = SimpleMovingAverage(inputs=[USEquityPricing.close], window_length=25)\n",
    "    d = SimpleMovingAverage(inputs=[USEquityPricing.close], window_length=35)\n",
    "    e = SimpleMovingAverage(inputs=[USEquityPricing.close], window_length=45)\n",
    "    f = SimpleMovingAverage(inputs=[USEquityPricing.close], window_length=50)\n",
    "    g = SimpleMovingAverage(inputs=[USEquityPricing.close], window_length=100)\n",
    "    h = SimpleMovingAverage(inputs=[USEquityPricing.close], window_length=200)   \n",
    "    \n",
    "    close = USEquityPricing.close.latest\n",
    "    symbol = SidInList(sid_list=(8554))\n",
    "    \n",
    "    return Pipeline(\n",
    "        columns={\n",
    "            '5': a,\n",
    "            '15': b,\n",
    "            '25': c,\n",
    "            '35': d,\n",
    "            '45': e,\n",
    "            '50': f,\n",
    "            '100': g,\n",
    "            '200': h,\n",
    "            'close': close,\n",
    "            'symbol': symbol,\n",
    "       },\n",
    "       screen=symbol,\n",
    "    )"
   ]
  },
  {
   "cell_type": "code",
   "execution_count": null,
   "metadata": {},
   "outputs": [],
   "source": [
    "result = run_pipeline(make_pipeline(), start, end)\n",
    "result.head()"
   ]
  },
  {
   "cell_type": "code",
   "execution_count": null,
   "metadata": {},
   "outputs": [],
   "source": [
    "dates = [x[0].to_datetime() for x in result.index.tolist()]"
   ]
  },
  {
   "cell_type": "code",
   "execution_count": null,
   "metadata": {},
   "outputs": [],
   "source": [
    "a = result['5'].values\n",
    "b = result['15'].values\n",
    "c = result['25'].values\n",
    "d = result['35'].values\n",
    "e = result['45'].values\n",
    "f = result['50'].values\n",
    "g = result['100'].values\n",
    "h = result['200'].values"
   ]
  },
  {
   "cell_type": "code",
   "execution_count": null,
   "metadata": {},
   "outputs": [],
   "source": [
    "price = result.close.values"
   ]
  },
  {
   "cell_type": "code",
   "execution_count": null,
   "metadata": {},
   "outputs": [],
   "source": [
    "#plt.plot(dates, a)\n",
    "#plt.plot(dates, b)\n",
    "#plt.plot(dates, c)\n",
    "plt.plot(dates, d, color='r')\n",
    "#plt.plot(dates, e)\n",
    "plt.plot(dates, f, color='b')\n",
    "#plt.plot(dates, g)\n",
    "#plt.plot(dates, h)\n",
    "\n",
    "plt.plot(dates, price, color='c')\n",
    "#plt.legend({'35': d, '50': f, 'price' :price})"
   ]
  },
  {
   "cell_type": "code",
   "execution_count": null,
   "metadata": {},
   "outputs": [],
   "source": [
    "#plt.plot(dates, a)\n",
    "#plt.plot(dates, b)\n",
    "#plt.plot(dates, c)\n",
    "plt.plot(dates, d, color='r')\n",
    "#plt.plot(dates, e)\n",
    "#plt.plot(dates, f, color='b')\n",
    "#plt.plot(dates, g)\n",
    "#plt.plot(dates, h)\n",
    "\n",
    "plt.plot(dates, price, color='c')\n",
    "#plt.legend({'35': d, '50': f, 'price' :price})"
   ]
  },
  {
   "cell_type": "code",
   "execution_count": null,
   "metadata": {},
   "outputs": [],
   "source": [
    "# THIS IS WITH PIPLINE ^^^^"
   ]
  },
  {
   "cell_type": "code",
   "execution_count": null,
   "metadata": {},
   "outputs": [],
   "source": []
  },
  {
   "cell_type": "code",
   "execution_count": null,
   "metadata": {},
   "outputs": [],
   "source": [
    "# THIS IS WITHOUT PIPELINE"
   ]
  },
  {
   "cell_type": "code",
   "execution_count": null,
   "metadata": {},
   "outputs": [],
   "source": [
    "import numpy as np\n",
    "import pandas as pd\n",
    "import matplotlib.pyplot as plt\n",
    "TICK = 'SPY'\n",
    "\n",
    "data = get_pricing(TICK, start_date='2013-04-01', end_date='2016-11-1')\n",
    "X = data['price']\n",
    "\n",
    "S = 200\n",
    "L = 30\n",
    "short_sma = pd.rolling_mean(X, window=S)\n",
    "#long_sma  = pd.rolling_mean(X, window=L)\n",
    "\n",
    "plt.plot(X.index, X.values, color='c')\n",
    "plt.plot(short_sma.index, short_sma.values, color='r')\n",
    "#plt.plot(long_sma.index, long_sma.values, color='g')\n",
    "plt.ylabel('Price')\n",
    "plt.legend([TICK, '%s-day SMA' % S, '%s-day SMA' % L]);"
   ]
  },
  {
   "cell_type": "code",
   "execution_count": null,
   "metadata": {},
   "outputs": [],
   "source": [
    "type(X.index)"
   ]
  },
  {
   "cell_type": "code",
   "execution_count": null,
   "metadata": {},
   "outputs": [],
   "source": [
    "data['short_SMA'] = pd.rolling_mean(short_sma, window=S)\n",
    "#data['long_SMA'] = pd.rolling_mean(long_sma, window=L)"
   ]
  },
  {
   "cell_type": "code",
   "execution_count": null,
   "metadata": {},
   "outputs": [],
   "source": [
    "data[['close_price', 'short_SMA']][-105:-85]#, 'long_SMA']]"
   ]
  },
  {
   "cell_type": "code",
   "execution_count": null,
   "metadata": {},
   "outputs": [],
   "source": []
  }
 ],
 "metadata": {
  "kernelspec": {
   "display_name": "Python 2",
   "language": "python",
   "name": "python2"
  },
  "language_info": {
   "codemirror_mode": {
    "name": "ipython",
    "version": 2
   },
   "file_extension": ".py",
   "mimetype": "text/x-python",
   "name": "python",
   "nbconvert_exporter": "python",
   "pygments_lexer": "ipython2",
   "version": "2.7.12"
  }
 },
 "nbformat": 4,
 "nbformat_minor": 0
}
