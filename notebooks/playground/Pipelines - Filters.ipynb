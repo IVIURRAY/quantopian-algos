{
 "cells": [
  {
   "cell_type": "code",
   "execution_count": null,
   "metadata": {},
   "outputs": [],
   "source": [
    "from quantopian.pipeline import Pipeline\n",
    "from quantopian.research import run_pipeline\n",
    "from quantopian.pipeline.data.builtin import USEquityPricing\n",
    "from quantopian.pipeline.factors import AverageDollarVolume, SimpleMovingAverage"
   ]
  },
  {
   "cell_type": "code",
   "execution_count": null,
   "metadata": {},
   "outputs": [],
   "source": [
    "#    latest_close_price = USEquityPricing.close.latest\n",
    "#    close_price_filter = latest_close_price > 20\n",
    "#    top_close_price = close_price_filter.top(5)\n",
    "    \n",
    "#    mean_close_10 = SimpleMovingAverage(inputs=[USEquityPricing.close], window_length=10)\n",
    "#   mean_close_30 = SimpleMovingAverage(inputs=[USEquityPricing.close], window_length=30)\n",
    "#    mean_crossover_filter = mean_close_10 < mean_close_30"
   ]
  },
  {
   "cell_type": "code",
   "execution_count": null,
   "metadata": {},
   "outputs": [],
   "source": [
    "def make_pipeline():\n",
    "    \n",
    "    mean_close_10 = SimpleMovingAverage(inputs=[USEquityPricing.close], window_length=10)\n",
    "    mean_close_30 = SimpleMovingAverage(inputs=[USEquityPricing.close], window_length=30)\n",
    "    percent_difference = (mean_close_10 - mean_close_30) / mean_close_30\n",
    "    \n",
    "    dollar_volume = AverageDollarVolume(window_length=30)\n",
    "    high_dollar_volume = (dollar_volume > 10000000)\n",
    "    \n",
    "    top_high_dollar_volume = dollar_volume.percentile_between(90, 100)\n",
    "    latest_close = USEquityPricing.close.latest\n",
    "    above_20 = latest_close > 20\n",
    "    is_tradeable = top_high_dollar_volume & above_20 # & (AND) | (OR) opporators.\n",
    "    \n",
    "    return Pipeline(\n",
    "        columns={\n",
    "            'percent_difference': percent_difference,\n",
    "            'dollar_volume': dollar_volume,\n",
    "            'high_dollar_volume': high_dollar_volume,\n",
    "        },\n",
    "        #screen=~high_dollar_volume, # Toggeling between True and False (~) will return > and < doll_vol securities.\n",
    "        screen=is_tradeable,\n",
    "    )"
   ]
  },
  {
   "cell_type": "code",
   "execution_count": null,
   "metadata": {},
   "outputs": [],
   "source": [
    "result = run_pipeline(make_pipeline(), '2015-05-05', '2015-05-05')\n",
    "print 'Number of securities that passed the filter: %d' % len(result)"
   ]
  },
  {
   "cell_type": "code",
   "execution_count": null,
   "metadata": {},
   "outputs": [],
   "source": [
    "result.head()"
   ]
  },
  {
   "cell_type": "code",
   "execution_count": null,
   "metadata": {},
   "outputs": [],
   "source": []
  }
 ],
 "metadata": {
  "kernelspec": {
   "display_name": "Python 2",
   "language": "python",
   "name": "python2"
  },
  "language_info": {
   "codemirror_mode": {
    "name": "ipython",
    "version": 2
   },
   "file_extension": ".py",
   "mimetype": "text/x-python",
   "name": "python",
   "nbconvert_exporter": "python",
   "pygments_lexer": "ipython2",
   "version": "2.7.12"
  }
 },
 "nbformat": 4,
 "nbformat_minor": 0
}
