{
 "cells": [
  {
   "cell_type": "code",
   "execution_count": null,
   "metadata": {},
   "outputs": [],
   "source": [
    "from quantopian.pipeline import Pipeline\n",
    "from quantopian.research import run_pipeline\n",
    "from quantopian.pipeline.data.builtin import USEquityPricing\n",
    "from quantopian.pipeline.factors import SimpleMovingAverage, RSI \n",
    "from quantopian.pipeline import CustomFilter\n",
    "import numpy as np\n",
    "import matplotlib.pyplot as plt"
   ]
  },
  {
   "cell_type": "code",
   "execution_count": null,
   "metadata": {},
   "outputs": [],
   "source": [
    "start = '2015-6-1'\n",
    "end = '2016-7-1'"
   ]
  },
  {
   "cell_type": "code",
   "execution_count": null,
   "metadata": {},
   "outputs": [],
   "source": [
    "class SidInList(CustomFilter):  \n",
    "    \"\"\"  \n",
    "    Filter returns True for any SID included in parameter tuple passed at creation.  \n",
    "    Usage: my_filter = SidInList(sid_list=(23911, 46631))  \n",
    "    \"\"\"  \n",
    "    inputs = []  \n",
    "    window_length = 1  \n",
    "    params = ('sid_list',)\n",
    "\n",
    "    def compute(self, today, assets, out, sid_list):  \n",
    "        out[:] = np.in1d(assets, sid_list)"
   ]
  },
  {
   "cell_type": "code",
   "execution_count": null,
   "metadata": {},
   "outputs": [],
   "source": [
    "def make_pipeline():\n",
    "\n",
    "    s = SimpleMovingAverage(inputs=[USEquityPricing.close], window_length=35)\n",
    "    l = SimpleMovingAverage(inputs=[USEquityPricing.close], window_length=50)\n",
    "    rsi = RSI(inputs=[USEquityPricing.close], window_length=10)\n",
    "    close = USEquityPricing.close.latest\n",
    "    symbol = SidInList(sid_list=(8554))\n",
    "    \n",
    "    return Pipeline(\n",
    "        columns={\n",
    "            'short':s,\n",
    "            'long': l,\n",
    "            'rsi':rsi,\n",
    "            'close': close,\n",
    "            'symbol': symbol,\n",
    "       },\n",
    "       screen=symbol,\n",
    "    )"
   ]
  },
  {
   "cell_type": "code",
   "execution_count": null,
   "metadata": {},
   "outputs": [],
   "source": [
    "result = run_pipeline(make_pipeline(), start, end)"
   ]
  },
  {
   "cell_type": "code",
   "execution_count": null,
   "metadata": {},
   "outputs": [],
   "source": [
    "rsi = result.rsi.values\n",
    "shorts = result.short.values \n",
    "longs = result.long.values\n",
    "price = result.close.values\n",
    "dates = [x[0].to_datetime() for x in result.index.tolist()]\n",
    "\n",
    "plt.plot(dates, shorts, color='r')\n",
    "plt.plot(dates, longs, color='b')\n",
    "plt.plot(dates, price, color='c')\n"
   ]
  },
  {
   "cell_type": "code",
   "execution_count": null,
   "metadata": {},
   "outputs": [],
   "source": [
    "plt.plot(dates, rsi)\n",
    "plt.plot(dates, [55]*len(dates))\n",
    "plt.plot(dates, [45]*len(dates))"
   ]
  },
  {
   "cell_type": "code",
   "execution_count": null,
   "metadata": {},
   "outputs": [],
   "source": []
  }
 ],
 "metadata": {
  "kernelspec": {
   "display_name": "Python 2",
   "language": "python",
   "name": "python2"
  },
  "language_info": {
   "codemirror_mode": {
    "name": "ipython",
    "version": 2
   },
   "file_extension": ".py",
   "mimetype": "text/x-python",
   "name": "python",
   "nbconvert_exporter": "python",
   "pygments_lexer": "ipython2",
   "version": "2.7.12"
  }
 },
 "nbformat": 4,
 "nbformat_minor": 2
}
